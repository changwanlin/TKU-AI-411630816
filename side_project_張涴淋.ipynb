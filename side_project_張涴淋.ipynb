{
  "nbformat": 4,
  "nbformat_minor": 0,
  "metadata": {
    "colab": {
      "provenance": [],
      "authorship_tag": "ABX9TyPHfTx9hzFDSUcEe+jmVw+N",
      "include_colab_link": true
    },
    "kernelspec": {
      "name": "python3",
      "display_name": "Python 3"
    },
    "language_info": {
      "name": "python"
    }
  },
  "cells": [
    {
      "cell_type": "markdown",
      "metadata": {
        "id": "view-in-github",
        "colab_type": "text"
      },
      "source": [
        "<a href=\"https://colab.research.google.com/github/changwanlin/TKU-AI-411630816/blob/main/side_project_%E5%BC%B5%E6%B6%B4%E6%B7%8B.ipynb\" target=\"_parent\"><img src=\"https://colab.research.google.com/assets/colab-badge.svg\" alt=\"Open In Colab\"/></a>"
      ]
    },
    {
      "cell_type": "code",
      "execution_count": 1,
      "metadata": {
        "colab": {
          "base_uri": "https://localhost:8080/"
        },
        "id": "b2JSmVN7Z0JQ",
        "outputId": "d9c35f13-0251-4568-afab-a88f6a46d593"
      },
      "outputs": [
        {
          "output_type": "stream",
          "name": "stdout",
          "text": [
            "身高(公分):\n",
            "160\n",
            "體重(公斤):\n",
            "45\n",
            "年齡\n",
            "18\n",
            "您的性別是男or女，男性輸入1，女性輸入2\n",
            "2\n",
            "選擇每周運動量\n",
            "完全沒運動輸入1\n",
            "每周輕量運動1~3天輸入2\n",
            "每周中量運動3~5天輸入3\n",
            "每周重量運動6~7天輸入4\n",
            "每天運動訓練兩次輸入5\n",
            "5\n",
            "BMI= 17.578124999999996\n",
            "BMR= 1290.4\n",
            "TDEE= 2580.8\n"
          ]
        }
      ],
      "source": [
        "import sys\n",
        "print(\"身高(公分):\")\n",
        "a=int(input())\n",
        "a1=a/100\n",
        "print(\"體重(公斤):\")\n",
        "b=int(input())\n",
        "print(\"年齡\")\n",
        "c=int(input())\n",
        "BMI=b/(a1**2)\n",
        "\n",
        "print(\"您的性別是男or女，男性輸入1，女性輸入2\")\n",
        "d=int(input())\n",
        "if(d==1):\n",
        "  BMR=(13.7*b)+(5.0*a)-(6.8*c)+66\n",
        "elif(d==2):\n",
        "  BMR=(9.6*b)+(1.8*a)-(4.7*c)+655\n",
        "else:\n",
        "  print(\"輸入無效!!\")\n",
        "  sys.exit(0)\n",
        "\n",
        "print(\"選擇每周運動量\")\n",
        "print(\"完全沒運動輸入1\")\n",
        "print(\"每周輕量運動1~3天輸入2\")\n",
        "print(\"每周中量運動3~5天輸入3\")\n",
        "print(\"每周重量運動6~7天輸入4\")\n",
        "print(\"每天運動訓練兩次輸入5\")\n",
        "e=int(input())\n",
        "if(e==1):\n",
        "  TDEE=BMR*1.2\n",
        "elif(e==2):\n",
        "  TDEE=BMR*1.4\n",
        "elif(e==3):\n",
        "  TDEE=BMR*1.6\n",
        "elif(e==4):\n",
        "  TDEE=BMR*1.8\n",
        "elif(e==5):\n",
        "  TDEE=BMR*2.0\n",
        "else:\n",
        "  print(\"輸入無效!!\")\n",
        "  sys.exit(0)\n",
        "\n",
        "print(\"BMI=\",BMI)\n",
        "print(\"BMR=\",BMR)\n",
        "print(\"TDEE=\",TDEE)\n"
      ]
    }
  ]
}